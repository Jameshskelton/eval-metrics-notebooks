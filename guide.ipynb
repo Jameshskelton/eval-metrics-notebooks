{
 "cells": [
  {
   "cell_type": "markdown",
   "id": "77e4c7d4-77b8-487d-bf54-11f9c3f3af5d",
   "metadata": {
    "gradient": {
     "editing": false,
     "id": "77e4c7d4-77b8-487d-bf54-11f9c3f3af5d",
     "kernelId": "6e31eaea-ca9d-4b58-99a3-ff510e2d3f5d"
    }
   },
   "source": [
    "# Read Me\n",
    "\n",
    "This guide was meant to be paired with the Paperspace Blog article found here: blog.paperspace.com/ml-evaluation-metrics-part-1/\n",
    "\n",
    "Use the blog along with this Notebook to see how you can use these ML evaluation metrics in Gradient. "
   ]
  },
  {
   "cell_type": "code",
   "execution_count": null,
   "id": "67c6bada-bcc6-4602-aba4-cdc02a88cdb1",
   "metadata": {
    "collapsed": false,
    "gradient": {
     "editing": true,
     "id": "67c6bada-bcc6-4602-aba4-cdc02a88cdb1",
     "kernelId": "6e31eaea-ca9d-4b58-99a3-ff510e2d3f5d",
     "source_hidden": false
    }
   },
   "outputs": [],
   "source": [
    "import pandas as pd \n",
    "from sklearn.datasets import load_breast_cancer, load_iris\n",
    "from sklearn import tree, svm\n",
    "from sklearn.model_selection import train_test_split\n",
    "from sklearn.preprocessing import label_binarize\n",
    "from sklearn.multiclass import OneVsRestClassifier\n",
    "from sklearn.metrics import PrecisionRecallDisplay\n",
    "from sklearn.metrics import *\n",
    "import numpy as np\n",
    "import seaborn as sns\n",
    "data = load_breast_cancer()\n"
   ]
  },
  {
   "cell_type": "code",
   "execution_count": null,
   "id": "9c743eab-252b-4202-aad9-bad621be872b",
   "metadata": {
    "collapsed": false,
    "gradient": {
     "editing": false,
     "id": "9c743eab-252b-4202-aad9-bad621be872b",
     "kernelId": "6e31eaea-ca9d-4b58-99a3-ff510e2d3f5d",
     "source_hidden": false
    }
   },
   "outputs": [
    {
     "name": "stdout",
     "output_type": "stream",
     "text": [
      "--2022-01-18 03:46:37--  https://raw.githubusercontent.com/plotly/datasets/master/auto-mpg.csv\r\n",
      "Resolving raw.githubusercontent.com (raw.githubusercontent.com)... 185.199.108.133, 185.199.110.133, 185.199.109.133, ...\r\n",
      "Connecting to raw.githubusercontent.com (raw.githubusercontent.com)|185.199.108.133|:443... connected.\r\n",
      "HTTP request sent, awaiting response... "
     ]
    },
    {
     "name": "stdout",
     "output_type": "stream",
     "text": [
      "200 OK\r\n",
      "Length: 10118 (9.9K) [text/plain]\r\n",
      "Saving to: ‘auto-mpg.csv’\r\n",
      "\r\n",
      "\r",
      "auto-mpg.csv          0%[                    ]       0  --.-KB/s               \r",
      "auto-mpg.csv        100%[===================>]   9.88K  --.-KB/s    in 0s      \r\n",
      "\r\n",
      "2022-01-18 03:46:37 (74.9 MB/s) - ‘auto-mpg.csv’ saved [10118/10118]\r\n",
      "\r\n"
     ]
    }
   ],
   "source": [
    "!wget https://raw.githubusercontent.com/plotly/datasets/master/auto-mpg.csv"
   ]
  },
  {
   "cell_type": "markdown",
   "id": "55eae0aa-f364-4c70-8f6b-d2c89eefcb3e",
   "metadata": {
    "gradient": {
     "editing": false,
     "id": "55eae0aa-f364-4c70-8f6b-d2c89eefcb3e",
     "kernelId": "6e31eaea-ca9d-4b58-99a3-ff510e2d3f5d"
    }
   },
   "source": [
    "# Regression Metrics"
   ]
  },
  {
   "cell_type": "code",
   "execution_count": null,
   "id": "3a9fa0b1-f06d-4708-934d-df84f6a049a4",
   "metadata": {
    "collapsed": false,
    "gradient": {
     "editing": false,
     "id": "3a9fa0b1-f06d-4708-934d-df84f6a049a4",
     "kernelId": "6e31eaea-ca9d-4b58-99a3-ff510e2d3f5d",
     "source_hidden": false
    }
   },
   "outputs": [],
   "source": [
    "mpg = pd.read_csv('auto-mpg.csv')\n",
    "mpg = mpg.dropna()"
   ]
  },
  {
   "cell_type": "code",
   "execution_count": null,
   "id": "640d9521-8c0c-4b34-8e7f-74e509aa534a",
   "metadata": {
    "collapsed": false,
    "gradient": {
     "editing": false,
     "id": "640d9521-8c0c-4b34-8e7f-74e509aa534a",
     "kernelId": "6e31eaea-ca9d-4b58-99a3-ff510e2d3f5d",
     "source_hidden": false
    }
   },
   "outputs": [],
   "source": [
    "clf = tree.DecisionTreeRegressor()\n",
    "\n",
    "X_train, X_test, y_train, y_test = train_test_split(mpg.drop('mpg', axis = 1), mpg['mpg'], test_size=0.33)\n",
    "\n",
    "clf.fit(X_train, y_train)\n",
    "\n",
    "pred = clf.predict(X_test)"
   ]
  },
  {
   "cell_type": "code",
   "execution_count": null,
   "id": "93f3d970-675a-456a-9704-8045398c7413",
   "metadata": {
    "collapsed": false,
    "gradient": {
     "editing": false,
     "id": "93f3d970-675a-456a-9704-8045398c7413",
     "kernelId": "6e31eaea-ca9d-4b58-99a3-ff510e2d3f5d",
     "source_hidden": false
    }
   },
   "outputs": [],
   "source": [
    "def RMSLE(y_true, y_pred):\n",
    "    \"\"\"\n",
    "        The Root Mean Squared Log Error (RMSLE) metric \n",
    "        \n",
    "        :param y_true: The ground truth labels given in the dataset\n",
    "        :param y_pred: Our predictions\n",
    "        :return: The RMSLE score\n",
    "    \"\"\"\n",
    "    return np.sqrt(mean_squared_log_error(y_true, y_pred))"
   ]
  },
  {
   "cell_type": "code",
   "execution_count": null,
   "id": "da4eb502-615f-4352-932e-faf963e04a44",
   "metadata": {
    "collapsed": false,
    "gradient": {
     "editing": false,
     "id": "da4eb502-615f-4352-932e-faf963e04a44",
     "kernelId": "6e31eaea-ca9d-4b58-99a3-ff510e2d3f5d",
     "source_hidden": false
    }
   },
   "outputs": [
    {
     "name": "stdout",
     "output_type": "stream",
     "text": [
      "the mean squared error score is 16.70854961832061\n",
      "the root mean squared error score is 16.70854961832061\n",
      "the mean absolute error score is 2.738931297709924\n",
      "the RMSLE score is 0.1509992391426919\n",
      "the R^2 score is 0.7363976767028859\n"
     ]
    }
   ],
   "source": [
    "print(\"the mean squared error score is \" + str(mean_squared_error(y_test, pred)))\n",
    "print(\"the root mean squared error score is \" + str(mean_squared_error(y_test, pred)))\n",
    "print(\"the mean absolute error score is \" + str(mean_absolute_error(y_test, pred)))\n",
    "print(\"the RMSLE score is \" + str(RMSLE(y_test, pred)))\n",
    "print(\"the R^2 score is \" + str(r2_score(y_test, pred)))"
   ]
  },
  {
   "cell_type": "code",
   "execution_count": null,
   "id": "dae28fd6-3499-4c1f-b4c8-5d95d83e6f08",
   "metadata": {
    "collapsed": false,
    "gradient": {
     "editing": false,
     "id": "dae28fd6-3499-4c1f-b4c8-5d95d83e6f08",
     "kernelId": "6e31eaea-ca9d-4b58-99a3-ff510e2d3f5d",
     "source_hidden": false
    }
   },
   "outputs": [
    {
     "data": {
      "text/plain": [
       "Text(0.5, 1.0, 'Predicted versus True for MPG against Weight')"
      ]
     },
     "execution_count": 7,
     "metadata": {},
     "output_type": "execute_result"
    },
    {
     "data": {
      "image/png": "[encoded data removed]",
      "text/plain": [
       "<Figure size 1080x720 with 1 Axes>"
      ]
     },
     "metadata": {
      "needs_background": "light"
     },
     "output_type": "display_data",
     "transient": {}
    }
   ],
   "source": [
    "import matplotlib.pyplot as plt \n",
    "fig, ax = plt.subplots(figsize = (15,10))\n",
    "\n",
    "\n",
    "\n",
    "plt.scatter(X_test['weight'], y_test, alpha = .5)\n",
    "# plt.scatter(X_train['weight'], y_train)\n",
    "plt.scatter(X_test['weight'], pred, alpha = .5)\n",
    "\n",
    "m, b = np.polyfit(X_test['weight'], y_test, 1)\n",
    "m1, b1 = np.polyfit(X_test['weight'], pred, 1)\n",
    "plt.plot(X_test['weight'], m*X_test['weight'] + b)\n",
    "plt.plot(X_test['weight'], m1*X_test['weight'] + b1)\n",
    "ax.set_title('Predicted versus True for MPG against Weight')"
   ]
  },
  {
   "cell_type": "markdown",
   "id": "06d95781-e84c-4e21-93dc-b86810c52602",
   "metadata": {
    "gradient": {
     "editing": false,
     "id": "06d95781-e84c-4e21-93dc-b86810c52602",
     "kernelId": "6e31eaea-ca9d-4b58-99a3-ff510e2d3f5d"
    }
   },
   "source": [
    "# Classification Metrics"
   ]
  },
  {
   "cell_type": "code",
   "execution_count": null,
   "id": "50e6b915-700c-4b34-92b7-8eeb1a4a3156",
   "metadata": {
    "collapsed": false,
    "gradient": {
     "editing": false,
     "id": "50e6b915-700c-4b34-92b7-8eeb1a4a3156",
     "kernelId": "6e31eaea-ca9d-4b58-99a3-ff510e2d3f5d",
     "source_hidden": false
    }
   },
   "outputs": [],
   "source": [
    "cancer = pd.DataFrame(data= data['data'], columns = data['feature_names'])\n"
   ]
  },
  {
   "cell_type": "code",
   "execution_count": null,
   "id": "e6b9d622-1a72-4a33-8cde-850a971223c3",
   "metadata": {
    "collapsed": false,
    "gradient": {
     "editing": false,
     "id": "e6b9d622-1a72-4a33-8cde-850a971223c3",
     "kernelId": "6e31eaea-ca9d-4b58-99a3-ff510e2d3f5d",
     "source_hidden": false
    }
   },
   "outputs": [],
   "source": [
    "clf = tree.DecisionTreeClassifier()\n",
    "\n",
    "X_train, X_test, y_train, y_test = train_test_split(cancer, data['target'], test_size=0.33)\n",
    "\n",
    "clf.fit(X_train, y_train)\n",
    "\n",
    "pred = clf.predict(X_test)\n",
    "\n"
   ]
  },
  {
   "cell_type": "code",
   "execution_count": null,
   "id": "6be46996-c348-4bcf-9610-d91bbdacc569",
   "metadata": {
    "collapsed": false,
    "gradient": {
     "editing": false,
     "id": "6be46996-c348-4bcf-9610-d91bbdacc569",
     "kernelId": "6e31eaea-ca9d-4b58-99a3-ff510e2d3f5d",
     "source_hidden": false
    }
   },
   "outputs": [
    {
     "name": "stdout",
     "output_type": "stream",
     "text": [
      "the Accuracy score is 0.9521276595744681\n",
      "the Precision score is 0.9841269841269841\n",
      "the Recall score is 0.9465648854961832\n",
      "the F1 score is 0.9649805447470817\n"
     ]
    }
   ],
   "source": [
    "print(\"the Accuracy score is \" + str(accuracy_score(pred, y_test)))\n",
    "print(\"the Precision score is \" + str(precision_score(pred, y_test)))\n",
    "print(\"the Recall score is \" + str(recall_score(pred, y_test)))\n",
    "print(\"the F1 score is \" + str(f1_score(pred, y_test)))"
   ]
  },
  {
   "cell_type": "code",
   "execution_count": null,
   "id": "3fa4eded-acfd-4a70-98b5-c07b0378c07f",
   "metadata": {
    "collapsed": false,
    "gradient": {
     "editing": false,
     "id": "3fa4eded-acfd-4a70-98b5-c07b0378c07f",
     "kernelId": "6e31eaea-ca9d-4b58-99a3-ff510e2d3f5d",
     "source_hidden": false
    }
   },
   "outputs": [
    {
     "name": "stdout",
     "output_type": "stream",
     "text": [
      "the sensitivity of the model is 8.0\n"
     ]
    }
   ],
   "source": [
    "#Specificity\n",
    "def perf_measure(y_actual, y_pred):\n",
    "    TP = 0\n",
    "    FP = 0\n",
    "    TN = 0\n",
    "    FN = 0\n",
    "\n",
    "    for i in range(len(y_pred)): \n",
    "        if y_actual[i]==y_pred[i]==1:\n",
    "           TP += 1\n",
    "        if y_pred[i]==1 and y_actual[i]!=y_pred[i]:\n",
    "           FP += 1\n",
    "        if y_actual[i]==y_pred[i]==0:\n",
    "           TN += 1\n",
    "        if y_pred[i]==0 and y_actual[i]!=y_pred[i]:\n",
    "           FN += 1\n",
    "\n",
    "    return(TP, FP, TN, FN)\n",
    "    \n",
    "TP, FP, TN, FN = perf_measure(y_test, pred)\n",
    "\n",
    "print('the sensitivity of the model is ' + str(TN/TN+FP))\n"
   ]
  },
  {
   "cell_type": "markdown",
   "id": "b768d47f-7137-4226-9d3c-e468adc85793",
   "metadata": {
    "gradient": {
     "editing": false,
     "id": "b768d47f-7137-4226-9d3c-e468adc85793",
     "kernelId": "6e31eaea-ca9d-4b58-99a3-ff510e2d3f5d"
    }
   },
   "source": [
    "# ROC"
   ]
  },
  {
   "cell_type": "code",
   "execution_count": null,
   "id": "169748f1-240c-439b-bf12-47f6f2f568c7",
   "metadata": {
    "collapsed": false,
    "gradient": {
     "editing": false,
     "id": "169748f1-240c-439b-bf12-47f6f2f568c7",
     "kernelId": "6e31eaea-ca9d-4b58-99a3-ff510e2d3f5d",
     "source_hidden": false
    }
   },
   "outputs": [],
   "source": [
    "classifier = OneVsRestClassifier(\n",
    "    svm.SVC(kernel=\"linear\", probability=True)\n",
    ")\n",
    "y_score = classifier.fit(X_train, y_train).decision_function(X_test)\n",
    "\n",
    "plot_roc_curve(clf, X_test, y_test) "
   ]
  },
  {
   "cell_type": "markdown",
   "id": "a30f041e-1180-450d-bff7-00ab40e395da",
   "metadata": {
    "gradient": {
     "editing": false,
     "id": "a30f041e-1180-450d-bff7-00ab40e395da",
     "kernelId": "6e31eaea-ca9d-4b58-99a3-ff510e2d3f5d"
    }
   },
   "source": [
    "# Precision Recall Curve"
   ]
  },
  {
   "cell_type": "code",
   "execution_count": null,
   "id": "8630bccf-4d7b-4623-b505-5a269bfc7f6c",
   "metadata": {
    "collapsed": false,
    "gradient": {
     "editing": false,
     "id": "8630bccf-4d7b-4623-b505-5a269bfc7f6c",
     "kernelId": "6e31eaea-ca9d-4b58-99a3-ff510e2d3f5d",
     "source_hidden": false
    }
   },
   "outputs": [
    {
     "data": {
      "image/png": "[encoded data removed]",
      "text/plain": [
       "<Figure size 432x288 with 1 Axes>"
      ]
     },
     "metadata": {
      "needs_background": "light"
     },
     "output_type": "display_data",
     "transient": {}
    }
   ],
   "source": [
    "\n",
    "display = PrecisionRecallDisplay.from_estimator(\n",
    "    classifier, X_test, y_test, name=\"LinearSVC\"\n",
    ")\n",
    "_ = display.ax_.set_title(\"2-class Precision-Recall curve\")"
   ]
  }
 ],
 "metadata": {},
 "nbformat": 4,
 "nbformat_minor": 5
}
