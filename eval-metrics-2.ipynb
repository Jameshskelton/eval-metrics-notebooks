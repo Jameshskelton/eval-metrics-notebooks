{
 "cells": [
  {
   "cell_type": "markdown",
   "id": "9a94e18c-8330-483f-827f-314f57f8b19b",
   "metadata": {
    "gradient": {
     "editing": false,
     "id": "9a94e18c-8330-483f-827f-314f57f8b19b",
     "kernelId": "1cbdae81-5922-4e06-9950-fa649d89e2b2"
    }
   },
   "source": [
    "# Before you begin\n",
    "\n",
    "Welcome to the notebook accompinement to \"Evaluation Metrics for Machine Learning Models.\"\n",
    "\n",
    "The first section, Clustering, contains coded examples of how various clustering evaluation metrics perform on some relatively straightforward datasets using SKlearn\n",
    "\n",
    "The second section on Ranking contains functional versions of the ranking metrics themselves."
   ]
  },
  {
   "cell_type": "markdown",
   "id": "bb27020c-346a-4d20-98e2-5093f9efa5b6",
   "metadata": {
    "gradient": {
     "editing": false,
     "id": "bb27020c-346a-4d20-98e2-5093f9efa5b6",
     "kernelId": "1cbdae81-5922-4e06-9950-fa649d89e2b2"
    }
   },
   "source": [
    "# Clustering\n",
    "\n",
    "### Silhouette Coefficient:\n",
    "The silhouette coefficient (internal evaluation technique) is calculated for each data point using mean intracluster distance and mean intercluster distance.\n",
    "\n",
    "$Silhouette coefficient = (b-a)/max(a,b)$\n",
    "\n"
   ]
  },
  {
   "cell_type": "code",
   "execution_count": null,
   "id": "5f46d39b-6b46-4662-9c78-b638e4f7765a",
   "metadata": {
    "collapsed": false,
    "gradient": {
     "editing": false,
     "execution_count": 95,
     "id": "5f46d39b-6b46-4662-9c78-b638e4f7765a",
     "kernelId": "1cbdae81-5922-4e06-9950-fa649d89e2b2",
     "source_hidden": false
    }
   },
   "outputs": [],
   "source": [
    "import pandas as pd\n",
    "import numpy as np\n",
    "import seaborn as sns\n",
    "from sklearn import metrics\n",
    "\n",
    "from sklearn.cluster import KMeans\n",
    "from sklearn.metrics.pairwise import euclidean_distances\n",
    "from sklearn.metrics import *\n",
    "%matplotlib inline\n"
   ]
  },
  {
   "cell_type": "code",
   "execution_count": null,
   "id": "13bb33ed-eb74-4d34-9ab8-8cf6dc458e1a",
   "metadata": {
    "collapsed": false,
    "gradient": {
     "editing": false,
     "id": "13bb33ed-eb74-4d34-9ab8-8cf6dc458e1a",
     "kernelId": "1cbdae81-5922-4e06-9950-fa649d89e2b2",
     "source_hidden": false
    }
   },
   "outputs": [
    {
     "name": "stderr",
     "output_type": "stream",
     "text": [
      "/tmp/ipykernel_105/3142626862.py:9: SettingWithCopyWarning: \n",
      "A value is trying to be set on a copy of a slice from a DataFrame\n",
      "\n",
      "See the caveats in the documentation: https://pandas.pydata.org/pandas-docs/stable/user_guide/indexing.html#returning-a-view-versus-a-copy\n",
      "  Z['label'][50:] = 1\n"
     ]
    },
    {
     "data": {
      "text/html": [
       "<div>\n",
       "<style scoped>\n",
       "    .dataframe tbody tr th:only-of-type {\n",
       "        vertical-align: middle;\n",
       "    }\n",
       "\n",
       "    .dataframe tbody tr th {\n",
       "        vertical-align: top;\n",
       "    }\n",
       "\n",
       "    .dataframe thead th {\n",
       "        text-align: right;\n",
       "    }\n",
       "</style>\n",
       "<table border=\"1\" class=\"dataframe\">\n",
       "  <thead>\n",
       "    <tr style=\"text-align: right;\">\n",
       "      <th></th>\n",
       "      <th>0</th>\n",
       "      <th>1</th>\n",
       "      <th>label</th>\n",
       "    </tr>\n",
       "  </thead>\n",
       "  <tbody>\n",
       "    <tr>\n",
       "      <th>0</th>\n",
       "      <td>0.406690</td>\n",
       "      <td>0.821114</td>\n",
       "      <td>0</td>\n",
       "    </tr>\n",
       "    <tr>\n",
       "      <th>1</th>\n",
       "      <td>0.069585</td>\n",
       "      <td>0.707755</td>\n",
       "      <td>0</td>\n",
       "    </tr>\n",
       "    <tr>\n",
       "      <th>2</th>\n",
       "      <td>0.192865</td>\n",
       "      <td>0.676098</td>\n",
       "      <td>0</td>\n",
       "    </tr>\n",
       "    <tr>\n",
       "      <th>3</th>\n",
       "      <td>0.801537</td>\n",
       "      <td>0.484012</td>\n",
       "      <td>0</td>\n",
       "    </tr>\n",
       "    <tr>\n",
       "      <th>4</th>\n",
       "      <td>0.526852</td>\n",
       "      <td>0.062571</td>\n",
       "      <td>0</td>\n",
       "    </tr>\n",
       "    <tr>\n",
       "      <th>...</th>\n",
       "      <td>...</td>\n",
       "      <td>...</td>\n",
       "      <td>...</td>\n",
       "    </tr>\n",
       "    <tr>\n",
       "      <th>95</th>\n",
       "      <td>5.903737</td>\n",
       "      <td>5.939706</td>\n",
       "      <td>1</td>\n",
       "    </tr>\n",
       "    <tr>\n",
       "      <th>96</th>\n",
       "      <td>5.359035</td>\n",
       "      <td>5.840399</td>\n",
       "      <td>1</td>\n",
       "    </tr>\n",
       "    <tr>\n",
       "      <th>97</th>\n",
       "      <td>5.679831</td>\n",
       "      <td>5.729358</td>\n",
       "      <td>1</td>\n",
       "    </tr>\n",
       "    <tr>\n",
       "      <th>98</th>\n",
       "      <td>5.003127</td>\n",
       "      <td>5.170218</td>\n",
       "      <td>1</td>\n",
       "    </tr>\n",
       "    <tr>\n",
       "      <th>99</th>\n",
       "      <td>5.537780</td>\n",
       "      <td>5.803913</td>\n",
       "      <td>1</td>\n",
       "    </tr>\n",
       "  </tbody>\n",
       "</table>\n",
       "<p>100 rows × 3 columns</p>\n",
       "</div>"
      ],
      "text/plain": [
       "           0         1  label\n",
       "0   0.406690  0.821114      0\n",
       "1   0.069585  0.707755      0\n",
       "2   0.192865  0.676098      0\n",
       "3   0.801537  0.484012      0\n",
       "4   0.526852  0.062571      0\n",
       "..       ...       ...    ...\n",
       "95  5.903737  5.939706      1\n",
       "96  5.359035  5.840399      1\n",
       "97  5.679831  5.729358      1\n",
       "98  5.003127  5.170218      1\n",
       "99  5.537780  5.803913      1\n",
       "\n",
       "[100 rows x 3 columns]"
      ]
     },
     "execution_count": 48,
     "metadata": {},
     "output_type": "execute_result"
    }
   ],
   "source": [
    "X= np.random.rand(50,2)\n",
    "Y= 5 + np.random.rand(50,2)\n",
    "Z= np.concatenate((X,Y))\n",
    "Z0 = Z[:50]\n",
    "Z1 = Z[50:]\n",
    "\n",
    "Z=pd.DataFrame(Z)\n",
    "Z['label'] = 0\n",
    "Z['label'][50:] = 1\n",
    "Z"
   ]
  },
  {
   "cell_type": "code",
   "execution_count": null,
   "id": "04e2eae9-15d5-49f8-8c2c-62e0dc8b4a7d",
   "metadata": {
    "collapsed": false,
    "gradient": {
     "editing": false,
     "id": "04e2eae9-15d5-49f8-8c2c-62e0dc8b4a7d",
     "kernelId": "1cbdae81-5922-4e06-9950-fa649d89e2b2",
     "source_hidden": false
    }
   },
   "outputs": [],
   "source": [
    "KMean= KMeans(n_clusters=2)\n",
    "KMean.fit(Z)\n",
    "label=KMean.predict(Z)"
   ]
  },
  {
   "cell_type": "code",
   "execution_count": null,
   "id": "4c3fb5e7-1cb4-4d3f-a5be-a6ae851d8c02",
   "metadata": {
    "collapsed": false,
    "gradient": {
     "editing": false,
     "id": "4c3fb5e7-1cb4-4d3f-a5be-a6ae851d8c02",
     "kernelId": "1cbdae81-5922-4e06-9950-fa649d89e2b2",
     "source_hidden": false
    }
   },
   "outputs": [
    {
     "name": "stdout",
     "output_type": "stream",
     "text": [
      "Silhouette Score(n=2): 0.9255504850259961\n"
     ]
    },
    {
     "name": "stderr",
     "output_type": "stream",
     "text": [
      "/opt/conda/lib/python3.9/site-packages/seaborn/_decorators.py:36: FutureWarning: Pass the following variables as keyword args: x, y. From version 0.12, the only valid positional argument will be `data`, and passing other arguments without an explicit keyword will result in an error or misinterpretation.\n",
      "  warnings.warn(\n"
     ]
    },
    {
     "data": {
      "text/plain": [
       "<AxesSubplot:xlabel='0', ylabel='1'>"
      ]
     },
     "execution_count": 36,
     "metadata": {},
     "output_type": "execute_result"
    },
    {
     "data": {
      "image/png": "[encoded data removed]",
      "text/plain": [
       "<Figure size 432x288 with 1 Axes>"
      ]
     },
     "metadata": {
      "needs_background": "light"
     },
     "output_type": "display_data",
     "transient": {}
    }
   ],
   "source": [
    "print(f'Silhouette Score(n=2): {silhouette_score(Z, label)}')\n",
    "sns.scatterplot(Z[0],Z[1],hue=label)\n"
   ]
  },
  {
   "cell_type": "markdown",
   "id": "b3862702-aaac-451d-976c-af01d1202339",
   "metadata": {
    "gradient": {
     "editing": false,
     "id": "b3862702-aaac-451d-976c-af01d1202339",
     "kernelId": "1cbdae81-5922-4e06-9950-fa649d89e2b2"
    }
   },
   "source": [
    "# Dunn Index\n",
    "Dunn Index (internal evaluation technique) is useful to identify sets of clusters that are compact and have small variance between the members of the cluster.\n",
    "\n",
    "$Dunn\\, Index =$ $ \\frac{\\underset{1 \\leq i \\lt j \\leq c}{min} \\delta(x_i, y_j)}{\\underset{1 \\leq k \\leq c}{max} \\Delta(x_k)}$"
   ]
  },
  {
   "cell_type": "code",
   "execution_count": null,
   "id": "7af7222d-83a0-4236-9cfd-3e59c41eb8b4",
   "metadata": {
    "collapsed": false,
    "gradient": {
     "editing": false,
     "id": "7af7222d-83a0-4236-9cfd-3e59c41eb8b4",
     "kernelId": "1cbdae81-5922-4e06-9950-fa649d89e2b2",
     "source_hidden": false
    }
   },
   "outputs": [],
   "source": [
    "def delta_fast(ck, cl, distances):\n",
    "    values = distances[np.where(ck)][:, np.where(cl)]\n",
    "    values = values[np.nonzero(values)]\n",
    "\n",
    "    return np.min(values)\n",
    "    \n",
    "def big_delta_fast(ci, distances):\n",
    "    values = distances[np.where(ci)][:, np.where(ci)]\n",
    "    #values = values[np.nonzero(values)]\n",
    "            \n",
    "    return np.max(values)\n",
    "\n",
    "def dunn_fast(points, labels):\n",
    "    \"\"\" Dunn index - FAST (using sklearn pairwise euclidean_distance function)\n",
    "    \n",
    "    Parameters\n",
    "    ----------\n",
    "    points : np.array\n",
    "        np.array([N, p]) of all points\n",
    "    labels: np.array\n",
    "        np.array([N]) labels of all points\n",
    "    \"\"\"\n",
    "    distances = euclidean_distances(points)\n",
    "    ks = np.sort(np.unique(labels))\n",
    "    \n",
    "    deltas = np.ones([len(ks), len(ks)])*1000000\n",
    "    big_deltas = np.zeros([len(ks), 1])\n",
    "    \n",
    "    l_range = list(range(0, len(ks)))\n",
    "    \n",
    "    for k in l_range:\n",
    "        for l in (l_range[0:k]+l_range[k+1:]):\n",
    "            deltas[k, l] = delta_fast((labels == ks[k]), (labels == ks[l]), distances)\n",
    "        \n",
    "        big_deltas[k] = big_delta_fast((labels == ks[k]), distances)\n",
    "\n",
    "    di = np.min(deltas)/np.max(big_deltas)\n",
    "    return di"
   ]
  },
  {
   "cell_type": "code",
   "execution_count": null,
   "id": "50b22030-ebdc-4cb8-83e3-b2b588553075",
   "metadata": {
    "collapsed": false,
    "gradient": {
     "editing": false,
     "id": "50b22030-ebdc-4cb8-83e3-b2b588553075",
     "kernelId": "1cbdae81-5922-4e06-9950-fa649d89e2b2",
     "source_hidden": false
    }
   },
   "outputs": [
    {
     "name": "stdout",
     "output_type": "stream",
     "text": [
      "5.089790523061119\n"
     ]
    }
   ],
   "source": [
    "print(dunn_fast(Z, label))"
   ]
  },
  {
   "cell_type": "markdown",
   "id": "ab96f87a-c66f-48ec-aadc-f0956ac0083c",
   "metadata": {
    "gradient": {
     "editing": false,
     "id": "ab96f87a-c66f-48ec-aadc-f0956ac0083c",
     "kernelId": "1cbdae81-5922-4e06-9950-fa649d89e2b2"
    }
   },
   "source": [
    "### Davies Bouldin Index\n",
    "\n",
    "(if formula doesn't display, see blog)\n",
    "\n",
    "$Davies-Bouldin\\, Index = \\frac{1}{c} \\sum_{i=1}^{c} \\underset{j \\neq i}{max} \\frac{\\sigma_i + \\sigma_j}{d(c_i, c_j)}$\n",
    "\n",
    "Models that give low intra-cluster distances and high inter-cluster distances (desired metrics!) output a low Davies-Bouldin Index. Thus, the lower the Davis-Bouldin Index, the better the model."
   ]
  },
  {
   "cell_type": "code",
   "execution_count": null,
   "id": "2f531955-9652-4ac6-83da-fbd98be80c2d",
   "metadata": {
    "collapsed": false,
    "gradient": {
     "editing": false,
     "id": "2f531955-9652-4ac6-83da-fbd98be80c2d",
     "kernelId": "1cbdae81-5922-4e06-9950-fa649d89e2b2",
     "source_hidden": false
    }
   },
   "outputs": [
    {
     "name": "stdout",
     "output_type": "stream",
     "text": [
      "Silhouette Score(n=2): 0.10802179943209032\n"
     ]
    },
    {
     "name": "stderr",
     "output_type": "stream",
     "text": [
      "/opt/conda/lib/python3.9/site-packages/seaborn/_decorators.py:36: FutureWarning: Pass the following variables as keyword args: x, y. From version 0.12, the only valid positional argument will be `data`, and passing other arguments without an explicit keyword will result in an error or misinterpretation.\n",
      "  warnings.warn(\n"
     ]
    },
    {
     "data": {
      "text/plain": [
       "<AxesSubplot:xlabel='0', ylabel='1'>"
      ]
     },
     "execution_count": 64,
     "metadata": {},
     "output_type": "execute_result"
    },
    {
     "data": {
      "image/png": "[encoded data removed]",
      "text/plain": [
       "<Figure size 432x288 with 1 Axes>"
      ]
     },
     "metadata": {
      "needs_background": "light"
     },
     "output_type": "display_data",
     "transient": {}
    }
   ],
   "source": [
    "print(f'Davies Bouldin Index (n=2): {davies_bouldin_score(Z, label)}')\n",
    "sns.scatterplot(Z,hue=label)"
   ]
  },
  {
   "cell_type": "markdown",
   "id": "963a67c2-1452-45de-9789-757da0dc3ba3",
   "metadata": {
    "gradient": {
     "editing": false,
     "id": "963a67c2-1452-45de-9789-757da0dc3ba3",
     "kernelId": "1cbdae81-5922-4e06-9950-fa649d89e2b2"
    }
   },
   "source": [
    "### Calinski-Harabasz Index\n",
    "\n",
    "$CHI = \\frac{trace(B_c)}{trace(W_c)} * \\frac{n_E - c}{c - 1}$\n"
   ]
  },
  {
   "cell_type": "code",
   "execution_count": null,
   "id": "9219f282-451c-4612-aefc-fc9efb16649d",
   "metadata": {
    "collapsed": false,
    "gradient": {
     "editing": false,
     "id": "9219f282-451c-4612-aefc-fc9efb16649d",
     "kernelId": "1cbdae81-5922-4e06-9950-fa649d89e2b2",
     "source_hidden": false
    }
   },
   "outputs": [
    {
     "name": "stdout",
     "output_type": "stream",
     "text": [
      "7522.0777461001235\n"
     ]
    },
    {
     "name": "stderr",
     "output_type": "stream",
     "text": [
      "/opt/conda/lib/python3.9/site-packages/seaborn/_decorators.py:36: FutureWarning: Pass the following variables as keyword args: x, y. From version 0.12, the only valid positional argument will be `data`, and passing other arguments without an explicit keyword will result in an error or misinterpretation.\n",
      "  warnings.warn(\n"
     ]
    },
    {
     "data": {
      "text/plain": [
       "<AxesSubplot:xlabel='0', ylabel='1'>"
      ]
     },
     "execution_count": 65,
     "metadata": {},
     "output_type": "execute_result"
    },
    {
     "data": {
      "image/png": "[encoded data removed]",
      "text/plain": [
       "<Figure size 432x288 with 1 Axes>"
      ]
     },
     "metadata": {
      "needs_background": "light"
     },
     "output_type": "display_data",
     "transient": {}
    }
   ],
   "source": [
    "print(calinski_harabasz_score(Z, label))\n",
    "sns.scatterplot(Z[0],Z[1],hue=label)"
   ]
  },
  {
   "cell_type": "markdown",
   "id": "9cf174b0-c8d2-4828-a2a4-297f5dc75603",
   "metadata": {
    "gradient": {
     "editing": false,
     "id": "9cf174b0-c8d2-4828-a2a4-297f5dc75603",
     "kernelId": "1cbdae81-5922-4e06-9950-fa649d89e2b2"
    }
   },
   "source": [
    "### Purity\n"
   ]
  },
  {
   "cell_type": "code",
   "execution_count": null,
   "id": "eefbb090-38da-41c2-99fc-f7ebfd7c83b2",
   "metadata": {
    "collapsed": false,
    "gradient": {
     "editing": false,
     "execution_count": 53,
     "id": "eefbb090-38da-41c2-99fc-f7ebfd7c83b2",
     "kernelId": "1cbdae81-5922-4e06-9950-fa649d89e2b2",
     "source_hidden": false
    }
   },
   "outputs": [],
   "source": [
    "\n",
    "!wget https://gist.githubusercontent.com/curran/a08a1080b88344b0c8a7/raw/0e7a9b0a5d22642a06d3d5b9bcbad9890c8ee534/iris.csv"
   ]
  },
  {
   "cell_type": "code",
   "execution_count": null,
   "id": "458f98f0-8cee-4fbd-8093-194da4c960f5",
   "metadata": {
    "collapsed": false,
    "gradient": {
     "editing": false,
     "execution_count": 83,
     "id": "458f98f0-8cee-4fbd-8093-194da4c960f5",
     "kernelId": "1cbdae81-5922-4e06-9950-fa649d89e2b2",
     "source_hidden": false
    }
   },
   "outputs": [],
   "source": [
    "iris = pd.read_csv('iris.csv')\n",
    "iris['species'] = iris.species.map({'setosa':1, 'versicolor':0, 'virginica': 2})\n",
    "label_iris = iris['species']\n",
    "iris.drop('species', axis = 1)\n",
    "x = iris.iloc[:, :-1]\n",
    "y = iris.iloc[:,   -1]\n",
    "kmeans = KMeans(n_clusters=3,   max_iter = 100, n_init = 10, random_state = 0) #Applying Kmeans classifier\n",
    "y_kmeans = kmeans.fit_predict(x)\n"
   ]
  },
  {
   "cell_type": "code",
   "execution_count": null,
   "id": "394deef6-497f-422b-aa87-b082255b08be",
   "metadata": {
    "collapsed": false,
    "gradient": {
     "editing": false,
     "execution_count": 84,
     "id": "394deef6-497f-422b-aa87-b082255b08be",
     "kernelId": "1cbdae81-5922-4e06-9950-fa649d89e2b2",
     "source_hidden": false
    }
   },
   "outputs": [],
   "source": [
    "y_kmeans = pd.DataFrame(y_kmeans, columns = ['Species'])\n",
    "# we merge this dataframe with df\n",
    "prediction = pd.concat([iris, y_kmeans], axis = 1)\n",
    "  \n",
    "# We store the clusters\n",
    "clus0 = prediction.loc[prediction.Species == 0]\n",
    "clus1 = prediction.loc[prediction.Species == 1]\n",
    "clus2 = prediction.loc[prediction.Species == 2]\n",
    "cluster_list = [clus0.values, clus1.values, clus2.values]"
   ]
  },
  {
   "cell_type": "code",
   "execution_count": null,
   "id": "f68d7824-6f1a-4721-88d4-59f2809c1413",
   "metadata": {
    "collapsed": false,
    "gradient": {
     "editing": false,
     "execution_count": 88,
     "id": "f68d7824-6f1a-4721-88d4-59f2809c1413",
     "kernelId": "1cbdae81-5922-4e06-9950-fa649d89e2b2",
     "source_hidden": false
    }
   },
   "outputs": [
    {
     "data": {
      "text/plain": [
       "0.8933333333333333"
      ]
     },
     "execution_count": 88,
     "metadata": {},
     "output_type": "execute_result"
    }
   ],
   "source": [
    "def purity_score(y_true, y_pred):\n",
    "    # compute contingency matrix (also called confusion matrix)\n",
    "    contingency_matrix = metrics.cluster.contingency_matrix(y_true, y_pred)\n",
    "    # return purity\n",
    "    return np.sum(np.amax(contingency_matrix, axis=0)) / np.sum(contingency_matrix) \n",
    "purity_score(prediction['species'], prediction['Species'])"
   ]
  },
  {
   "cell_type": "markdown",
   "id": "5f8c5eb4-1b12-4417-af5d-9df35de6953a",
   "metadata": {
    "gradient": {
     "editing": false,
     "id": "5f8c5eb4-1b12-4417-af5d-9df35de6953a",
     "kernelId": "1cbdae81-5922-4e06-9950-fa649d89e2b2"
    }
   },
   "source": [
    "### Normalized Mutual Information"
   ]
  },
  {
   "cell_type": "code",
   "execution_count": null,
   "id": "e54dbd88-b104-4547-a07f-3c506c53d037",
   "metadata": {
    "collapsed": false,
    "gradient": {
     "editing": false,
     "execution_count": 89,
     "id": "e54dbd88-b104-4547-a07f-3c506c53d037",
     "kernelId": "1cbdae81-5922-4e06-9950-fa649d89e2b2",
     "source_hidden": false
    }
   },
   "outputs": [
    {
     "data": {
      "text/plain": [
       "0.7581756800057785"
      ]
     },
     "execution_count": 89,
     "metadata": {},
     "output_type": "execute_result"
    }
   ],
   "source": [
    "\n",
    "normalized_mutual_info_score(prediction['species'], prediction['Species'])\n",
    "\n"
   ]
  },
  {
   "cell_type": "markdown",
   "id": "3aeaca4f-5107-4822-bea9-6705f84856b7",
   "metadata": {
    "gradient": {
     "editing": false,
     "id": "3aeaca4f-5107-4822-bea9-6705f84856b7",
     "kernelId": "1cbdae81-5922-4e06-9950-fa649d89e2b2"
    }
   },
   "source": [
    "### Rand Index (Score) and Adjusted Rand Score"
   ]
  },
  {
   "cell_type": "code",
   "execution_count": null,
   "id": "584bce86-b124-433d-97e3-829bf9298027",
   "metadata": {
    "collapsed": false,
    "gradient": {
     "editing": false,
     "execution_count": 97,
     "id": "584bce86-b124-433d-97e3-829bf9298027",
     "kernelId": "1cbdae81-5922-4e06-9950-fa649d89e2b2",
     "source_hidden": false
    }
   },
   "outputs": [
    {
     "data": {
      "text/plain": [
       "0.8797315436241611"
      ]
     },
     "execution_count": 97,
     "metadata": {},
     "output_type": "execute_result"
    }
   ],
   "source": [
    "rand_score(prediction['species'], prediction['Species'])\n"
   ]
  },
  {
   "cell_type": "code",
   "execution_count": null,
   "id": "c545115d-ddc4-43d2-baaf-46d87be3b9e1",
   "metadata": {
    "collapsed": false,
    "gradient": {
     "editing": false,
     "execution_count": 96,
     "id": "c545115d-ddc4-43d2-baaf-46d87be3b9e1",
     "kernelId": "1cbdae81-5922-4e06-9950-fa649d89e2b2",
     "source_hidden": false
    }
   },
   "outputs": [
    {
     "data": {
      "text/plain": [
       "0.7302382722834697"
      ]
     },
     "execution_count": 96,
     "metadata": {},
     "output_type": "execute_result"
    }
   ],
   "source": [
    "adjusted_rand_score(prediction['species'], prediction['Species'])\n"
   ]
  },
  {
   "cell_type": "markdown",
   "id": "27eb40d6-ffb4-4e1f-baf5-bf352c764d66",
   "metadata": {
    "gradient": {
     "editing": false,
     "id": "27eb40d6-ffb4-4e1f-baf5-bf352c764d66",
     "kernelId": "1cbdae81-5922-4e06-9950-fa649d89e2b2"
    }
   },
   "source": [
    "### Jaccard Score"
   ]
  },
  {
   "cell_type": "code",
   "execution_count": null,
   "id": "b86086a5-b2f1-4f64-bb4e-264a9c7018f6",
   "metadata": {
    "collapsed": false,
    "gradient": {
     "editing": false,
     "execution_count": 99,
     "id": "b86086a5-b2f1-4f64-bb4e-264a9c7018f6",
     "kernelId": "1cbdae81-5922-4e06-9950-fa649d89e2b2",
     "source_hidden": false
    }
   },
   "outputs": [
    {
     "data": {
      "text/plain": [
       "0.8072289156626506"
      ]
     },
     "execution_count": 99,
     "metadata": {},
     "output_type": "execute_result"
    }
   ],
   "source": [
    "jaccard_score(prediction['species'], prediction['Species'], average = 'micro')\n"
   ]
  },
  {
   "cell_type": "markdown",
   "id": "dbc6f744-24cf-450b-ac47-d12739b8816b",
   "metadata": {
    "gradient": {
     "editing": false,
     "id": "dbc6f744-24cf-450b-ac47-d12739b8816b",
     "kernelId": "1cbdae81-5922-4e06-9950-fa649d89e2b2"
    }
   },
   "source": [
    "### Precision @ N"
   ]
  },
  {
   "cell_type": "code",
   "execution_count": null,
   "id": "6a15e42f-0300-4719-8e49-6a8975b19d49",
   "metadata": {
    "collapsed": false,
    "gradient": {
     "editing": false,
     "execution_count": 102,
     "id": "6a15e42f-0300-4719-8e49-6a8975b19d49",
     "kernelId": "1cbdae81-5922-4e06-9950-fa649d89e2b2",
     "source_hidden": false
    }
   },
   "outputs": [],
   "source": [
    "def precision_at_k(r, k):\n",
    "    \"\"\"Score is precision @ k\n",
    "    Relevance is binary (nonzero is relevant).\n",
    "    >>> r = [0, 0, 1]\n",
    "    >>> precision_at_k(r, 1)\n",
    "    0.0\n",
    "    >>> precision_at_k(r, 2)\n",
    "    0.0\n",
    "    >>> precision_at_k(r, 3)\n",
    "    0.33333333333333331\n",
    "    >>> precision_at_k(r, 4)\n",
    "    Traceback (most recent call last):\n",
    "        File \"<stdin>\", line 1, in ?\n",
    "    ValueError: Relevance score length < k\n",
    "    Args:\n",
    "        r: Relevance scores (list or numpy) in rank order\n",
    "            (first element is the first item)\n",
    "    Returns:\n",
    "        Precision @ k\n",
    "    Raises:\n",
    "        ValueError: len(r) must be >= k\n",
    "    \"\"\"\n",
    "    assert k >= 1\n",
    "    r = np.asarray(r)[:k] != 0\n",
    "    if r.size != k:\n",
    "        raise ValueError('Relevance score length < k')\n",
    "    return np.mean(r)"
   ]
  },
  {
   "cell_type": "code",
   "execution_count": null,
   "id": "c327b13d-6bc0-45d9-ba65-ded7ad555ce1",
   "metadata": {
    "collapsed": false,
    "gradient": {
     "editing": false,
     "execution_count": 106,
     "id": "c327b13d-6bc0-45d9-ba65-ded7ad555ce1",
     "kernelId": "1cbdae81-5922-4e06-9950-fa649d89e2b2",
     "source_hidden": false
    }
   },
   "outputs": [
    {
     "data": {
      "text/plain": [
       "1.0"
      ]
     },
     "execution_count": 106,
     "metadata": {},
     "output_type": "execute_result"
    }
   ],
   "source": [
    "arr = [1,2,0,0,1,2,1,0,0,1,0,2,1,1]\n",
    "\n",
    "precision_at_k(arr, 2)"
   ]
  },
  {
   "cell_type": "markdown",
   "id": "41015223-bd80-4ea9-9a42-d9b497376035",
   "metadata": {
    "gradient": {
     "editing": false,
     "id": "41015223-bd80-4ea9-9a42-d9b497376035",
     "kernelId": "1cbdae81-5922-4e06-9950-fa649d89e2b2"
    }
   },
   "source": [
    "### Average precision"
   ]
  },
  {
   "cell_type": "code",
   "execution_count": null,
   "id": "e2415e18-2745-43fc-a4bf-359c760196b7",
   "metadata": {
    "collapsed": false,
    "gradient": {
     "editing": false,
     "execution_count": 108,
     "id": "e2415e18-2745-43fc-a4bf-359c760196b7",
     "kernelId": "1cbdae81-5922-4e06-9950-fa649d89e2b2",
     "source_hidden": false
    }
   },
   "outputs": [],
   "source": [
    "def average_precision(r):\n",
    "    \"\"\"Score is average precision (area under PR curve)\n",
    "    Relevance is binary (nonzero is relevant).\n",
    "    >>> r = [1, 1, 0, 1, 0, 1, 0, 0, 0, 1]\n",
    "    >>> delta_r = 1. / sum(r)\n",
    "    >>> sum([sum(r[:x + 1]) / (x + 1.) * delta_r for x, y in enumerate(r) if y])\n",
    "    0.7833333333333333\n",
    "    >>> average_precision(r)\n",
    "    0.78333333333333333\n",
    "    Args:\n",
    "        r: Relevance scores (list or numpy) in rank order\n",
    "            (first element is the first item)\n",
    "    Returns:\n",
    "        Average precision\n",
    "    \"\"\"\n",
    "    r = np.asarray(r) != 0\n",
    "    out = [precision_at_k(r, k + 1) for k in range(r.size) if r[k]]\n",
    "    if not out:\n",
    "        return 0.\n",
    "    return np.mean(out)"
   ]
  },
  {
   "cell_type": "code",
   "execution_count": null,
   "id": "e24751c3-acaa-435e-919b-18c6bd151495",
   "metadata": {
    "collapsed": false,
    "gradient": {
     "editing": false,
     "execution_count": 109,
     "id": "e24751c3-acaa-435e-919b-18c6bd151495",
     "kernelId": "1cbdae81-5922-4e06-9950-fa649d89e2b2",
     "source_hidden": false
    }
   },
   "outputs": [
    {
     "data": {
      "text/plain": [
       "0.7136141636141636"
      ]
     },
     "execution_count": 109,
     "metadata": {},
     "output_type": "execute_result"
    }
   ],
   "source": [
    "arr = [1,2,0,0,1,2,1,0,0,1,0,2,1,1]\n",
    "\n",
    "average_precision(arr)"
   ]
  },
  {
   "cell_type": "markdown",
   "id": "bda0f43c-a756-4245-8777-b907868cb842",
   "metadata": {
    "gradient": {
     "editing": false,
     "id": "bda0f43c-a756-4245-8777-b907868cb842",
     "kernelId": "1cbdae81-5922-4e06-9950-fa649d89e2b2"
    }
   },
   "source": [
    "### Mean Averge Precision"
   ]
  },
  {
   "cell_type": "code",
   "execution_count": null,
   "id": "3942f4d2-8456-4f5a-92b1-a15c3e65b382",
   "metadata": {
    "collapsed": false,
    "gradient": {
     "editing": false,
     "execution_count": 112,
     "id": "3942f4d2-8456-4f5a-92b1-a15c3e65b382",
     "kernelId": "1cbdae81-5922-4e06-9950-fa649d89e2b2",
     "source_hidden": false
    }
   },
   "outputs": [],
   "source": [
    "def mean_average_precision(rs):\n",
    "    \"\"\"Score is mean average precision\n",
    "    Relevance is binary (nonzero is relevant).\n",
    "    >>> rs = [[1, 1, 0, 1, 0, 1, 0, 0, 0, 1]]\n",
    "    >>> mean_average_precision(rs)\n",
    "    0.78333333333333333\n",
    "    >>> rs = [[1, 1, 0, 1, 0, 1, 0, 0, 0, 1], [0]]\n",
    "    >>> mean_average_precision(rs)\n",
    "    0.39166666666666666\n",
    "    Args:\n",
    "        rs: Iterator of relevance scores (list or numpy) in rank order\n",
    "            (first element is the first item)\n",
    "    Returns:\n",
    "        Mean average precision\n",
    "    \"\"\"\n",
    "    return np.mean([average_precision(r) for r in rs])"
   ]
  },
  {
   "cell_type": "code",
   "execution_count": null,
   "id": "6b71fa60-1b63-4631-a3bd-1b657c468a4c",
   "metadata": {
    "collapsed": false,
    "gradient": {
     "editing": false,
     "execution_count": 113,
     "id": "6b71fa60-1b63-4631-a3bd-1b657c468a4c",
     "kernelId": "1cbdae81-5922-4e06-9950-fa649d89e2b2",
     "source_hidden": false
    }
   },
   "outputs": [
    {
     "data": {
      "text/plain": [
       "0.7136141636141636"
      ]
     },
     "execution_count": 113,
     "metadata": {},
     "output_type": "execute_result"
    }
   ],
   "source": [
    "arr \n",
    "\n",
    "mean_average_precision([arr])"
   ]
  },
  {
   "cell_type": "markdown",
   "id": "b4c58a55-e331-4eb4-a2ce-6475eaa6fdc7",
   "metadata": {
    "gradient": {
     "editing": false,
     "id": "b4c58a55-e331-4eb4-a2ce-6475eaa6fdc7",
     "kernelId": "1cbdae81-5922-4e06-9950-fa649d89e2b2"
    }
   },
   "source": [
    "### Discounted Cumulative Gain"
   ]
  },
  {
   "cell_type": "code",
   "execution_count": null,
   "id": "2daf1dd8-b95e-4224-b50d-8c7419437f83",
   "metadata": {
    "collapsed": false,
    "gradient": {
     "editing": false,
     "execution_count": 115,
     "id": "2daf1dd8-b95e-4224-b50d-8c7419437f83",
     "kernelId": "1cbdae81-5922-4e06-9950-fa649d89e2b2",
     "source_hidden": false
    }
   },
   "outputs": [],
   "source": [
    "def dcg_at_k(r, k, method=0):\n",
    "    \"\"\"Score is discounted cumulative gain (dcg)\n",
    "    Relevance is positive real values.  Can use binary\n",
    "    as the previous methods.\n",
    "    Example from\n",
    "    http://www.stanford.edu/class/cs276/handouts/EvaluationNew-handout-6-per.pdf\n",
    "    >>> r = [3, 2, 3, 0, 0, 1, 2, 2, 3, 0]\n",
    "    >>> dcg_at_k(r, 1)\n",
    "    3.0\n",
    "    >>> dcg_at_k(r, 1, method=1)\n",
    "    3.0\n",
    "    >>> dcg_at_k(r, 2)\n",
    "    5.0\n",
    "    >>> dcg_at_k(r, 2, method=1)\n",
    "    4.2618595071429155\n",
    "    >>> dcg_at_k(r, 10)\n",
    "    9.6051177391888114\n",
    "    >>> dcg_at_k(r, 11)\n",
    "    9.6051177391888114\n",
    "    Args:\n",
    "        r: Relevance scores (list or numpy) in rank order\n",
    "            (first element is the first item)\n",
    "        k: Number of results to consider\n",
    "        method: If 0 then weights are [1.0, 1.0, 0.6309, 0.5, 0.4307, ...]\n",
    "                If 1 then weights are [1.0, 0.6309, 0.5, 0.4307, ...]\n",
    "    Returns:\n",
    "        Discounted cumulative gain\n",
    "    \"\"\"\n",
    "    r = np.asfarray(r)[:k]\n",
    "    if r.size:\n",
    "        if method == 0:\n",
    "            return r[0] + np.sum(r[1:] / np.log2(np.arange(2, r.size + 1)))\n",
    "        elif method == 1:\n",
    "            return np.sum(r / np.log2(np.arange(2, r.size + 2)))\n",
    "        else:\n",
    "            raise ValueError('method must be 0 or 1.')\n",
    "    return 0.\n"
   ]
  },
  {
   "cell_type": "code",
   "execution_count": null,
   "id": "fda5729b-f4c5-450e-9dcb-1dc7509127f4",
   "metadata": {
    "collapsed": false,
    "gradient": {
     "editing": false,
     "execution_count": 119,
     "id": "fda5729b-f4c5-450e-9dcb-1dc7509127f4",
     "kernelId": "1cbdae81-5922-4e06-9950-fa649d89e2b2",
     "source_hidden": false
    }
   },
   "outputs": [
    {
     "data": {
      "text/plain": [
       "4.204382172542476"
      ]
     },
     "execution_count": 119,
     "metadata": {},
     "output_type": "execute_result"
    }
   ],
   "source": [
    "arr = [1,2,0,0,1,2,1,0,0,1,0,2,1,1]\n",
    "\n",
    "dcg_at_k(arr, 6)"
   ]
  },
  {
   "cell_type": "markdown",
   "id": "e651ea07-5ed9-4c7b-8798-49ab0386607b",
   "metadata": {
    "gradient": {
     "editing": false,
     "id": "e651ea07-5ed9-4c7b-8798-49ab0386607b",
     "kernelId": "1cbdae81-5922-4e06-9950-fa649d89e2b2"
    }
   },
   "source": [
    "### Normative Discounted Cumulative Gain"
   ]
  },
  {
   "cell_type": "code",
   "execution_count": null,
   "id": "b1b7abf3-1bf7-4e4d-afbc-639c8af867ee",
   "metadata": {
    "collapsed": false,
    "gradient": {
     "editing": false,
     "execution_count": 120,
     "id": "b1b7abf3-1bf7-4e4d-afbc-639c8af867ee",
     "kernelId": "1cbdae81-5922-4e06-9950-fa649d89e2b2",
     "source_hidden": false
    }
   },
   "outputs": [],
   "source": [
    "def ndcg_at_k(r, k, method=0):\n",
    "    \"\"\"Score is normalized discounted cumulative gain (ndcg)\n",
    "    Relevance is positive real values.  Can use binary\n",
    "    as the previous methods.\n",
    "    Example from\n",
    "    http://www.stanford.edu/class/cs276/handouts/EvaluationNew-handout-6-per.pdf\n",
    "    >>> r = [3, 2, 3, 0, 0, 1, 2, 2, 3, 0]\n",
    "    >>> ndcg_at_k(r, 1)\n",
    "    1.0\n",
    "    >>> r = [2, 1, 2, 0]\n",
    "    >>> ndcg_at_k(r, 4)\n",
    "    0.9203032077642922\n",
    "    >>> ndcg_at_k(r, 4, method=1)\n",
    "    0.96519546960144276\n",
    "    >>> ndcg_at_k([0], 1)\n",
    "    0.0\n",
    "    >>> ndcg_at_k([1], 2)\n",
    "    1.0\n",
    "    Args:\n",
    "        r: Relevance scores (list or numpy) in rank order\n",
    "            (first element is the first item)\n",
    "        k: Number of results to consider\n",
    "        method: If 0 then weights are [1.0, 1.0, 0.6309, 0.5, 0.4307, ...]\n",
    "                If 1 then weights are [1.0, 0.6309, 0.5, 0.4307, ...]\n",
    "    Returns:\n",
    "        Normalized discounted cumulative gain\n",
    "    \"\"\"\n",
    "    dcg_max = dcg_at_k(sorted(r, reverse=True), k, method)\n",
    "    if not dcg_max:\n",
    "        return 0.\n",
    "    return dcg_at_k(r, k, method) / dcg_max\n",
    "\n"
   ]
  },
  {
   "cell_type": "code",
   "execution_count": null,
   "id": "b1a3fd9a-e684-4154-85b3-7380483414df",
   "metadata": {
    "collapsed": false,
    "gradient": {
     "editing": false,
     "execution_count": 121,
     "id": "b1a3fd9a-e684-4154-85b3-7380483414df",
     "kernelId": "1cbdae81-5922-4e06-9950-fa649d89e2b2",
     "source_hidden": false
    }
   },
   "outputs": [
    {
     "data": {
      "text/plain": [
       "0.63902320626571"
      ]
     },
     "execution_count": 121,
     "metadata": {},
     "output_type": "execute_result"
    }
   ],
   "source": [
    "arr = [1,2,0,0,1,2,1,0,0,1,0,2,1,1]\n",
    "\n",
    "ndcg_at_k(arr, 6)"
   ]
  },
  {
   "cell_type": "markdown",
   "id": "7b26ee5c-5a51-4dea-bd63-122c6a11bbd3",
   "metadata": {
    "gradient": {
     "editing": false,
     "id": "7b26ee5c-5a51-4dea-bd63-122c6a11bbd3",
     "kernelId": "1cbdae81-5922-4e06-9950-fa649d89e2b2"
    }
   },
   "source": [
    "Mean Reciprical Rank"
   ]
  },
  {
   "cell_type": "code",
   "execution_count": null,
   "id": "694757b4-1e28-4776-9b10-46bc8402aa12",
   "metadata": {
    "collapsed": false,
    "gradient": {
     "editing": false,
     "execution_count": 123,
     "id": "694757b4-1e28-4776-9b10-46bc8402aa12",
     "kernelId": "1cbdae81-5922-4e06-9950-fa649d89e2b2",
     "source_hidden": false
    }
   },
   "outputs": [],
   "source": [
    "def mean_reciprocal_rank(rs):\n",
    "    \"\"\"Score is reciprocal of the rank of the first relevant item\n",
    "    First element is 'rank 1'.  Relevance is binary (nonzero is relevant).\n",
    "    Example from http://en.wikipedia.org/wiki/Mean_reciprocal_rank\n",
    "    >>> rs = [[0, 0, 1], [0, 1, 0], [1, 0, 0]]\n",
    "    >>> mean_reciprocal_rank(rs)\n",
    "    0.61111111111111105\n",
    "    >>> rs = np.array([[0, 0, 0], [0, 1, 0], [1, 0, 0]])\n",
    "    >>> mean_reciprocal_rank(rs)\n",
    "    0.5\n",
    "    >>> rs = [[0, 0, 0, 1], [1, 0, 0], [1, 0, 0]]\n",
    "    >>> mean_reciprocal_rank(rs)\n",
    "    0.75\n",
    "    Args:\n",
    "        rs: Iterator of relevance scores (list or numpy) in rank order\n",
    "            (first element is the first item)\n",
    "    Returns:\n",
    "        Mean reciprocal rank\n",
    "    \"\"\"\n",
    "    rs = (np.asarray(r).nonzero()[0] for r in rs)\n",
    "    return np.mean([1. / (r[0] + 1) if r.size else 0. for r in rs])"
   ]
  },
  {
   "cell_type": "code",
   "execution_count": null,
   "id": "00ed36d7-8a3f-4008-9cf1-ca17e9e9f432",
   "metadata": {
    "collapsed": false,
    "gradient": {
     "editing": true,
     "execution_count": 124,
     "id": "00ed36d7-8a3f-4008-9cf1-ca17e9e9f432",
     "kernelId": "1cbdae81-5922-4e06-9950-fa649d89e2b2",
     "source_hidden": false
    }
   },
   "outputs": [
    {
     "name": "stderr",
     "output_type": "stream",
     "text": [
      "/tmp/ipykernel_105/1806596518.py:20: DeprecationWarning: Calling nonzero on 0d arrays is deprecated, as it behaves surprisingly. Use `atleast_1d(arr).nonzero()` if the old behavior was intended.\n",
      "  rs = (np.asarray(r).nonzero()[0] for r in rs)\n"
     ]
    },
    {
     "data": {
      "text/plain": [
       "0.6428571428571429"
      ]
     },
     "execution_count": 124,
     "metadata": {},
     "output_type": "execute_result"
    }
   ],
   "source": [
    "arr = [1,2,0,0,1,2,1,0,0,1,0,2,1,1]\n",
    "\n",
    "mean_reciprocal_rank(arr)"
   ]
  }
 ],
 "metadata": {},
 "nbformat": 4,
 "nbformat_minor": 5
}
